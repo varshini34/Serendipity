{
 "cells": [
  {
   "cell_type": "code",
   "execution_count": 1,
   "metadata": {
    "colab": {
     "base_uri": "https://localhost:8080/"
    },
    "id": "375re6MygmxH",
    "outputId": "4ec1d0fb-55c5-4a17-ed74-8bc2dfa9fa4a"
   },
   "outputs": [],
   "source": [
    "import logging, os\n",
    "\n",
    "logging.disable(logging.WARNING)\n",
    "os.environ[\"TF_CPP_MIN_LOG_LEVEL\"] = \"3\"\n",
    "\n",
    "ROOT_DIR = os.getcwd()\n",
    "DATA_DIR = os.path.join(ROOT_DIR, r'C:\\ml-latest-small')"
   ]
  },
  {
   "cell_type": "code",
   "execution_count": 2,
   "metadata": {
    "id": "n--kCdgw13OO"
   },
   "outputs": [],
   "source": [
    "import pandas as pd\n",
    "import numpy as np\n",
    "import tensorflow as tf\n",
    "from tensorflow import keras\n",
    "from tensorflow.keras import layers\n",
    "import matplotlib.pyplot as plt\n",
    "import logging, os"
   ]
  },
  {
   "cell_type": "code",
   "execution_count": 3,
   "metadata": {
    "id": "tIsxAjsr7S5h"
   },
   "outputs": [],
   "source": [
    "training_full=pd.read_csv(r'C:\\ml-latest-small\\ratings.csv')"
   ]
  },
  {
   "cell_type": "code",
   "execution_count": 4,
   "metadata": {
    "colab": {
     "base_uri": "https://localhost:8080/"
    },
    "id": "oEcGFD0b8Axk",
    "outputId": "f32af319-6978-4b7a-fd63-4d6b690a73b6"
   },
   "outputs": [
    {
     "name": "stdout",
     "output_type": "stream",
     "text": [
      "Index(['userId', 'movieId', 'rating', 'timestamp'], dtype='object')\n"
     ]
    }
   ],
   "source": [
    "print(training_full.columns)\n"
   ]
  },
  {
   "cell_type": "code",
   "execution_count": 5,
   "metadata": {
    "colab": {
     "base_uri": "https://localhost:8080/",
     "height": 423
    },
    "id": "qIj1E8XS8VIA",
    "outputId": "3423b2d1-4ae0-4a08-b853-539126bd6e9e"
   },
   "outputs": [
    {
     "data": {
      "text/html": [
       "<div>\n",
       "<style scoped>\n",
       "    .dataframe tbody tr th:only-of-type {\n",
       "        vertical-align: middle;\n",
       "    }\n",
       "\n",
       "    .dataframe tbody tr th {\n",
       "        vertical-align: top;\n",
       "    }\n",
       "\n",
       "    .dataframe thead th {\n",
       "        text-align: right;\n",
       "    }\n",
       "</style>\n",
       "<table border=\"1\" class=\"dataframe\">\n",
       "  <thead>\n",
       "    <tr style=\"text-align: right;\">\n",
       "      <th></th>\n",
       "      <th>userId</th>\n",
       "      <th>movieId</th>\n",
       "      <th>rating</th>\n",
       "      <th>timestamp</th>\n",
       "    </tr>\n",
       "  </thead>\n",
       "  <tbody>\n",
       "    <tr>\n",
       "      <th>0</th>\n",
       "      <td>1</td>\n",
       "      <td>1</td>\n",
       "      <td>4.0</td>\n",
       "      <td>964982703</td>\n",
       "    </tr>\n",
       "    <tr>\n",
       "      <th>1</th>\n",
       "      <td>1</td>\n",
       "      <td>3</td>\n",
       "      <td>4.0</td>\n",
       "      <td>964981247</td>\n",
       "    </tr>\n",
       "    <tr>\n",
       "      <th>2</th>\n",
       "      <td>1</td>\n",
       "      <td>6</td>\n",
       "      <td>4.0</td>\n",
       "      <td>964982224</td>\n",
       "    </tr>\n",
       "    <tr>\n",
       "      <th>3</th>\n",
       "      <td>1</td>\n",
       "      <td>47</td>\n",
       "      <td>5.0</td>\n",
       "      <td>964983815</td>\n",
       "    </tr>\n",
       "    <tr>\n",
       "      <th>4</th>\n",
       "      <td>1</td>\n",
       "      <td>50</td>\n",
       "      <td>5.0</td>\n",
       "      <td>964982931</td>\n",
       "    </tr>\n",
       "    <tr>\n",
       "      <th>...</th>\n",
       "      <td>...</td>\n",
       "      <td>...</td>\n",
       "      <td>...</td>\n",
       "      <td>...</td>\n",
       "    </tr>\n",
       "    <tr>\n",
       "      <th>100831</th>\n",
       "      <td>610</td>\n",
       "      <td>166534</td>\n",
       "      <td>4.0</td>\n",
       "      <td>1493848402</td>\n",
       "    </tr>\n",
       "    <tr>\n",
       "      <th>100832</th>\n",
       "      <td>610</td>\n",
       "      <td>168248</td>\n",
       "      <td>5.0</td>\n",
       "      <td>1493850091</td>\n",
       "    </tr>\n",
       "    <tr>\n",
       "      <th>100833</th>\n",
       "      <td>610</td>\n",
       "      <td>168250</td>\n",
       "      <td>5.0</td>\n",
       "      <td>1494273047</td>\n",
       "    </tr>\n",
       "    <tr>\n",
       "      <th>100834</th>\n",
       "      <td>610</td>\n",
       "      <td>168252</td>\n",
       "      <td>5.0</td>\n",
       "      <td>1493846352</td>\n",
       "    </tr>\n",
       "    <tr>\n",
       "      <th>100835</th>\n",
       "      <td>610</td>\n",
       "      <td>170875</td>\n",
       "      <td>3.0</td>\n",
       "      <td>1493846415</td>\n",
       "    </tr>\n",
       "  </tbody>\n",
       "</table>\n",
       "<p>100836 rows × 4 columns</p>\n",
       "</div>"
      ],
      "text/plain": [
       "        userId  movieId  rating   timestamp\n",
       "0            1        1     4.0   964982703\n",
       "1            1        3     4.0   964981247\n",
       "2            1        6     4.0   964982224\n",
       "3            1       47     5.0   964983815\n",
       "4            1       50     5.0   964982931\n",
       "...        ...      ...     ...         ...\n",
       "100831     610   166534     4.0  1493848402\n",
       "100832     610   168248     5.0  1493850091\n",
       "100833     610   168250     5.0  1494273047\n",
       "100834     610   168252     5.0  1493846352\n",
       "100835     610   170875     3.0  1493846415\n",
       "\n",
       "[100836 rows x 4 columns]"
      ]
     },
     "execution_count": 5,
     "metadata": {},
     "output_type": "execute_result"
    }
   ],
   "source": [
    "training_full"
   ]
  },
  {
   "cell_type": "code",
   "execution_count": 6,
   "metadata": {
    "colab": {
     "base_uri": "https://localhost:8080/"
    },
    "id": "2YKJOhYM_X6d",
    "outputId": "cbb6f2ed-c420-44a0-c65d-53c8831fabe7"
   },
   "outputs": [
    {
     "name": "stdout",
     "output_type": "stream",
     "text": [
      "Index(['userId', 'movieId', 'rating', 'timestamp'], dtype='object')\n"
     ]
    }
   ],
   "source": [
    "print(training_full.columns)"
   ]
  },
  {
   "cell_type": "code",
   "execution_count": 7,
   "metadata": {
    "colab": {
     "base_uri": "https://localhost:8080/"
    },
    "id": "QiURitgJAE4T",
    "outputId": "3b9d64d8-5977-42ab-825e-5d93433178cf"
   },
   "outputs": [
    {
     "name": "stdout",
     "output_type": "stream",
     "text": [
      "[]\n"
     ]
    }
   ],
   "source": [
    "correct_column_names = [col for col in training_full.columns if 'UserId' in col]\n",
    "print(correct_column_names)"
   ]
  },
  {
   "cell_type": "code",
   "execution_count": 8,
   "metadata": {
    "id": "wb5Rfq05-70U"
   },
   "outputs": [],
   "source": [
    "user_ids = training_full['userId'].unique().tolist()\n"
   ]
  },
  {
   "cell_type": "code",
   "execution_count": 9,
   "metadata": {
    "colab": {
     "base_uri": "https://localhost:8080/"
    },
    "id": "qnD4n_B013Qs",
    "outputId": "37396404-7611-49a2-af81-725a4293a50e"
   },
   "outputs": [
    {
     "name": "stdout",
     "output_type": "stream",
     "text": [
      "Number of users: 610, Number of Movies: 9724, Min rating: 0.5, Max rating: 5.0\n"
     ]
    }
   ],
   "source": [
    "# Drop unnecessary columns\n",
    "cols_to_drop = ['timestamp']\n",
    "#training_full.drop(cols_to_drop, axis = 1, inplace = True)\n",
    "training_full.head()\n",
    "\n",
    "user_ids = training_full[\"userId\"].unique().tolist()\n",
    "user2user_encoded = {x: i for i, x in enumerate(user_ids)}\n",
    "userencoded2user = {i: x for i, x in enumerate(user_ids)}\n",
    "movie_ids = training_full[\"movieId\"].unique().tolist()\n",
    "movie2movie_encoded = {x: i for i, x in enumerate(movie_ids)}\n",
    "movie_encoded2movie = {i: x for i, x in enumerate(movie_ids)}\n",
    "training_full[\"user\"] = training_full[\"userId\"].map(user2user_encoded)\n",
    "training_full[\"movie\"] = training_full[\"movieId\"].map(movie2movie_encoded)\n",
    "\n",
    "num_users = len(user2user_encoded)\n",
    "num_movies = len(movie_encoded2movie)\n",
    "training_full[\"rating\"] = training_full[\"rating\"].values.astype(np.float32)\n",
    "# min and max ratings will be used to normalize the ratings later\n",
    "min_rating = min(training_full[\"rating\"])\n",
    "max_rating = max(training_full[\"rating\"])\n",
    "\n",
    "print(\n",
    "    \"Number of users: {}, Number of Movies: {}, Min rating: {}, Max rating: {}\".format(\n",
    "        num_users, num_movies, min_rating, max_rating\n",
    "    )\n",
    ")\n",
    "\n",
    "training_full = training_full.sample(frac=1, random_state=42)\n",
    "x = training_full[[\"user\", \"movie\"]].values\n",
    "# Normalize the targets between 0 and 1. Makes it easy to train.\n",
    "y = training_full[\"rating\"].apply(lambda x: (x - min_rating) / (max_rating - min_rating)).values\n",
    "# Assuming training on 80% of the data and validating on 20%.\n",
    "train_indices = int(0.8 * training_full.shape[0])\n",
    "x_train, x_val, y_train, y_val = (\n",
    "    x[:train_indices],\n",
    "    x[train_indices:],\n",
    "    y[:train_indices],\n",
    "    y[train_indices:],\n",
    ")\n",
    "\n"
   ]
  },
  {
   "cell_type": "code",
   "execution_count": 10,
   "metadata": {
    "id": "CTXD5cbO4ucY"
   },
   "outputs": [],
   "source": [
    "EMBEDDING_SIZE = 64"
   ]
  },
  {
   "cell_type": "code",
   "execution_count": 11,
   "metadata": {
    "colab": {
     "base_uri": "https://localhost:8080/"
    },
    "id": "ORWUsdB1A2PH",
    "outputId": "838d5b5f-1705-427d-9da4-87d963ae8c65"
   },
   "outputs": [
    {
     "name": "stdout",
     "output_type": "stream",
     "text": [
      "Epoch 1/11\n",
      "1261/1261 [==============================] - 21s 15ms/step - loss: 0.6389 - val_loss: 0.6213\n",
      "Epoch 2/11\n",
      "1261/1261 [==============================] - 18s 14ms/step - loss: 0.6156 - val_loss: 0.6241\n",
      "Epoch 3/11\n",
      "1261/1261 [==============================] - 18s 14ms/step - loss: 0.6118 - val_loss: 0.6156\n",
      "Epoch 4/11\n",
      "1261/1261 [==============================] - 18s 14ms/step - loss: 0.6117 - val_loss: 0.6180\n",
      "Epoch 5/11\n",
      "1261/1261 [==============================] - 19s 15ms/step - loss: 0.6135 - val_loss: 0.6174\n",
      "Epoch 6/11\n",
      "1261/1261 [==============================] - 20s 16ms/step - loss: 0.6136 - val_loss: 0.6177\n",
      "Epoch 7/11\n",
      "1261/1261 [==============================] - 18s 15ms/step - loss: 0.6129 - val_loss: 0.6155\n",
      "Epoch 8/11\n",
      "1261/1261 [==============================] - 18s 14ms/step - loss: 0.6116 - val_loss: 0.6154\n",
      "Epoch 9/11\n",
      "1261/1261 [==============================] - 18s 14ms/step - loss: 0.6137 - val_loss: 0.6175\n",
      "Epoch 10/11\n",
      "1261/1261 [==============================] - 19s 15ms/step - loss: 0.6130 - val_loss: 0.6169\n",
      "Epoch 11/11\n",
      "1261/1261 [==============================] - 19s 15ms/step - loss: 0.6125 - val_loss: 0.6166\n"
     ]
    }
   ],
   "source": [
    "class RecommenderNet(keras.Model):\n",
    "    def __init__(self, num_users, num_movies, embedding_size, **kwargs):\n",
    "        super(RecommenderNet, self).__init__(**kwargs)\n",
    "        self.num_users = num_users\n",
    "        self.num_movies = num_movies\n",
    "        self.embedding_size = embedding_size\n",
    "        self.user_embedding = layers.Embedding(\n",
    "            num_users,\n",
    "            embedding_size,\n",
    "            embeddings_initializer=\"he_normal\",\n",
    "            embeddings_regularizer=keras.regularizers.l2(1e-6),\n",
    "        )\n",
    "        self.user_bias = layers.Embedding(num_users, 1)\n",
    "        self.movie_embedding = layers.Embedding(\n",
    "            num_movies,\n",
    "            embedding_size,\n",
    "            embeddings_initializer=\"he_normal\",\n",
    "            embeddings_regularizer=keras.regularizers.l2(1e-6),\n",
    "        )\n",
    "        self.movie_bias = layers.Embedding(num_movies, 1)\n",
    "\n",
    "    def call(self, inputs):\n",
    "        user_vector = self.user_embedding(inputs[:, 0])\n",
    "        user_bias = self.user_bias(inputs[:, 0])\n",
    "        movie_vector = self.movie_embedding(inputs[:, 1])\n",
    "        movie_bias = self.movie_bias(inputs[:, 1])\n",
    "        dot_user_movie = tf.tensordot(user_vector, movie_vector, 2)\n",
    "        # Add all the components (including bias)\n",
    "        x = dot_user_movie + user_bias + movie_bias\n",
    "        # The sigmoid activation forces the rating to between 0 and 1\n",
    "        return tf.nn.sigmoid(x)\n",
    "\n",
    "\n",
    "model = RecommenderNet(num_users, num_movies, EMBEDDING_SIZE)\n",
    "model.compile(\n",
    "    loss=tf.keras.losses.BinaryCrossentropy(),\n",
    "    optimizer=keras.optimizers.Adam(learning_rate=0.001),\n",
    ")\n",
    "\n",
    "history = model.fit(\n",
    "    x=x_train,\n",
    "    y=y_train,\n",
    "    batch_size=64,\n",
    "    epochs=11,\n",
    "    verbose=1,\n",
    "    validation_data=(x_val, y_val),\n",
    ")"
   ]
  },
  {
   "cell_type": "code",
   "execution_count": 12,
   "metadata": {
    "colab": {
     "base_uri": "https://localhost:8080/",
     "height": 472
    },
    "id": "-CN-ESYMBC8l",
    "outputId": "d9ff11e9-b4ed-4696-93ec-294a18298c7d"
   },
   "outputs": [
    {
     "data": {
      "image/png": "[encoded data removed]",
      "text/plain": [
       "<Figure size 432x288 with 1 Axes>"
      ]
     },
     "metadata": {
      "needs_background": "light"
     },
     "output_type": "display_data"
    }
   ],
   "source": [
    "plt.plot(history.history[\"loss\"])\n",
    "plt.plot(history.history[\"val_loss\"])\n",
    "plt.title(\"model loss\")\n",
    "plt.ylabel(\"loss\")\n",
    "plt.xlabel(\"epoch\")\n",
    "plt.legend([\"train\", \"test\"], loc=\"upper left\")\n",
    "plt.show()"
   ]
  },
  {
   "cell_type": "code",
   "execution_count": 13,
   "metadata": {
    "id": "1B8ukjeU13Vy"
   },
   "outputs": [],
   "source": [
    "movie_df=pd.read_csv(r'C:\\Users\\avant\\OneDrive\\Documents\\M.E Project\\ml-latest-small\\movies.csv')\n"
   ]
  },
  {
   "cell_type": "code",
   "execution_count": 14,
   "metadata": {
    "colab": {
     "base_uri": "https://localhost:8080/"
    },
    "id": "Xj1HopXX13ZW",
    "outputId": "254f140e-6b98-477c-ead0-2b477dbcafb4"
   },
   "outputs": [
    {
     "name": "stdout",
     "output_type": "stream",
     "text": [
      "Index(['movieId', 'title', 'genres'], dtype='object')\n"
     ]
    }
   ],
   "source": [
    "print(movie_df.columns)"
   ]
  },
  {
   "cell_type": "code",
   "execution_count": 15,
   "metadata": {
    "colab": {
     "base_uri": "https://localhost:8080/",
     "height": 423
    },
    "id": "nPPjR1PvGIFi",
    "outputId": "2f08bc92-6ab0-46ab-a97f-31cb6d39eb9b"
   },
   "outputs": [
    {
     "data": {
      "text/html": [
       "<div>\n",
       "<style scoped>\n",
       "    .dataframe tbody tr th:only-of-type {\n",
       "        vertical-align: middle;\n",
       "    }\n",
       "\n",
       "    .dataframe tbody tr th {\n",
       "        vertical-align: top;\n",
       "    }\n",
       "\n",
       "    .dataframe thead th {\n",
       "        text-align: right;\n",
       "    }\n",
       "</style>\n",
       "<table border=\"1\" class=\"dataframe\">\n",
       "  <thead>\n",
       "    <tr style=\"text-align: right;\">\n",
       "      <th></th>\n",
       "      <th>movieId</th>\n",
       "      <th>title</th>\n",
       "      <th>genres</th>\n",
       "    </tr>\n",
       "  </thead>\n",
       "  <tbody>\n",
       "    <tr>\n",
       "      <th>0</th>\n",
       "      <td>1</td>\n",
       "      <td>Toy Story (1995)</td>\n",
       "      <td>Adventure|Animation|Children|Comedy|Fantasy</td>\n",
       "    </tr>\n",
       "    <tr>\n",
       "      <th>1</th>\n",
       "      <td>2</td>\n",
       "      <td>Jumanji (1995)</td>\n",
       "      <td>Adventure|Children|Fantasy</td>\n",
       "    </tr>\n",
       "    <tr>\n",
       "      <th>2</th>\n",
       "      <td>3</td>\n",
       "      <td>Grumpier Old Men (1995)</td>\n",
       "      <td>Comedy|Romance</td>\n",
       "    </tr>\n",
       "    <tr>\n",
       "      <th>3</th>\n",
       "      <td>4</td>\n",
       "      <td>Waiting to Exhale (1995)</td>\n",
       "      <td>Comedy|Drama|Romance</td>\n",
       "    </tr>\n",
       "    <tr>\n",
       "      <th>4</th>\n",
       "      <td>5</td>\n",
       "      <td>Father of the Bride Part II (1995)</td>\n",
       "      <td>Comedy</td>\n",
       "    </tr>\n",
       "    <tr>\n",
       "      <th>...</th>\n",
       "      <td>...</td>\n",
       "      <td>...</td>\n",
       "      <td>...</td>\n",
       "    </tr>\n",
       "    <tr>\n",
       "      <th>9737</th>\n",
       "      <td>193581</td>\n",
       "      <td>Black Butler: Book of the Atlantic (2017)</td>\n",
       "      <td>Action|Animation|Comedy|Fantasy</td>\n",
       "    </tr>\n",
       "    <tr>\n",
       "      <th>9738</th>\n",
       "      <td>193583</td>\n",
       "      <td>No Game No Life: Zero (2017)</td>\n",
       "      <td>Animation|Comedy|Fantasy</td>\n",
       "    </tr>\n",
       "    <tr>\n",
       "      <th>9739</th>\n",
       "      <td>193585</td>\n",
       "      <td>Flint (2017)</td>\n",
       "      <td>Drama</td>\n",
       "    </tr>\n",
       "    <tr>\n",
       "      <th>9740</th>\n",
       "      <td>193587</td>\n",
       "      <td>Bungo Stray Dogs: Dead Apple (2018)</td>\n",
       "      <td>Action|Animation</td>\n",
       "    </tr>\n",
       "    <tr>\n",
       "      <th>9741</th>\n",
       "      <td>193609</td>\n",
       "      <td>Andrew Dice Clay: Dice Rules (1991)</td>\n",
       "      <td>Comedy</td>\n",
       "    </tr>\n",
       "  </tbody>\n",
       "</table>\n",
       "<p>9742 rows × 3 columns</p>\n",
       "</div>"
      ],
      "text/plain": [
       "      movieId                                      title  \\\n",
       "0           1                           Toy Story (1995)   \n",
       "1           2                             Jumanji (1995)   \n",
       "2           3                    Grumpier Old Men (1995)   \n",
       "3           4                   Waiting to Exhale (1995)   \n",
       "4           5         Father of the Bride Part II (1995)   \n",
       "...       ...                                        ...   \n",
       "9737   193581  Black Butler: Book of the Atlantic (2017)   \n",
       "9738   193583               No Game No Life: Zero (2017)   \n",
       "9739   193585                               Flint (2017)   \n",
       "9740   193587        Bungo Stray Dogs: Dead Apple (2018)   \n",
       "9741   193609        Andrew Dice Clay: Dice Rules (1991)   \n",
       "\n",
       "                                           genres  \n",
       "0     Adventure|Animation|Children|Comedy|Fantasy  \n",
       "1                      Adventure|Children|Fantasy  \n",
       "2                                  Comedy|Romance  \n",
       "3                            Comedy|Drama|Romance  \n",
       "4                                          Comedy  \n",
       "...                                           ...  \n",
       "9737              Action|Animation|Comedy|Fantasy  \n",
       "9738                     Animation|Comedy|Fantasy  \n",
       "9739                                        Drama  \n",
       "9740                             Action|Animation  \n",
       "9741                                       Comedy  \n",
       "\n",
       "[9742 rows x 3 columns]"
      ]
     },
     "execution_count": 15,
     "metadata": {},
     "output_type": "execute_result"
    }
   ],
   "source": [
    "\n",
    "movie_df"
   ]
  },
  {
   "cell_type": "code",
   "execution_count": 16,
   "metadata": {
    "colab": {
     "base_uri": "https://localhost:8080/"
    },
    "id": "2XIaEaCpEhPJ",
    "outputId": "2b5e0b8b-276d-4440-bfc9-04108f6b6abe"
   },
   "outputs": [
    {
     "name": "stdout",
     "output_type": "stream",
     "text": [
      "Top 10 movie recommendations\n",
      "--------------------------------\n",
      "Shawshank Redemption, The (1994) : Crime|Drama\n",
      "Dr. Strangelove or: How I Learned to Stop Worrying and Love the Bomb (1964) : Comedy|War\n",
      "Rear Window (1954) : Mystery|Thriller\n",
      "North by Northwest (1959) : Action|Adventure|Mystery|Romance|Thriller\n",
      "African Queen, The (1951) : Adventure|Comedy|Romance|War\n",
      "Fish Called Wanda, A (1988) : Comedy|Crime\n",
      "Dial M for Murder (1954) : Crime|Mystery|Thriller\n",
      "Graduate, The (1967) : Comedy|Drama|Romance\n",
      "Chinatown (1974) : Crime|Film-Noir|Mystery|Thriller\n",
      "Cool Hand Luke (1967) : Drama\n"
     ]
    }
   ],
   "source": [
    "# Let us get a user and see the top recommendations.\n",
    "user_id = 1\n",
    "\n",
    "movies_watched_by_user = training_full[training_full.userId ==user_id]\n",
    "movies_not_watched = movie_df[~movie_df[\"movieId\"].isin(movies_watched_by_user.movieId.values)][\"movieId\"]\n",
    "movies_not_watched = list(\n",
    "    set(movies_not_watched).intersection(set(movie2movie_encoded.keys()))\n",
    ")\n",
    "movies_not_watched = [[movie2movie_encoded.get(x)] for x in movies_not_watched]\n",
    "user_encoder = user2user_encoded.get(user_id)\n",
    "user_movie_array = np.hstack(\n",
    "    ([[user_encoder]] * len(movies_not_watched), movies_not_watched)\n",
    ")\n",
    "ratings = model.predict(user_movie_array).flatten()\n",
    "top_ratings_indices = ratings.argsort()[-10:][::-1]\n",
    "recommended_movie_ids = [\n",
    "    movie_encoded2movie.get(movies_not_watched[x][0]) for x in top_ratings_indices\n",
    "]\n",
    "print(\"Top 10 movie recommendations\")\n",
    "print(\"----\" * 8)\n",
    "recommended_movies = movie_df[movie_df[\"movieId\"].isin(recommended_movie_ids)]\n",
    "for row in recommended_movies.itertuples():\n",
    "    print(row.title, \":\", row.genres)"
   ]
  },
  {
   "cell_type": "code",
   "execution_count": 38,
   "metadata": {},
   "outputs": [
    {
     "name": "stdout",
     "output_type": "stream",
     "text": [
      "Top 10 movie recommendations\n",
      "--------------------------------\n",
      "Star Wars: Episode IV - A New Hope (1977) : Action|Adventure|Sci-Fi\n",
      "Secrets & Lies (1996) : Drama\n",
      "Streetcar Named Desire, A (1951) : Drama\n",
      "One Flew Over the Cuckoo's Nest (1975) : Drama\n",
      "Lawrence of Arabia (1962) : Adventure|Drama|War\n",
      "Apocalypse Now (1979) : Action|Drama|War\n",
      "Goodfellas (1990) : Crime|Drama\n",
      "Godfather: Part II, The (1974) : Crime|Drama\n",
      "High Noon (1952) : Drama|Western\n",
      "This Is Spinal Tap (1984) : Comedy\n"
     ]
    }
   ],
   "source": [
    "# Let us get a user and see the top recommendations.\n",
    "user_id = 255\n",
    "\n",
    "movies_watched_by_user = training_full[training_full.userId ==user_id]\n",
    "movies_not_watched = movie_df[~movie_df[\"movieId\"].isin(movies_watched_by_user.movieId.values)][\"movieId\"]\n",
    "movies_not_watched = list(\n",
    "    set(movies_not_watched).intersection(set(movie2movie_encoded.keys()))\n",
    ")\n",
    "movies_not_watched = [[movie2movie_encoded.get(x)] for x in movies_not_watched]\n",
    "user_encoder = user2user_encoded.get(user_id)\n",
    "user_movie_array = np.hstack(\n",
    "    ([[user_encoder]] * len(movies_not_watched), movies_not_watched)\n",
    ")\n",
    "ratings = model.predict(user_movie_array).flatten()\n",
    "top_ratings_indices = ratings.argsort()[-10:][::-1]\n",
    "recommended_movie_ids = [\n",
    "    movie_encoded2movie.get(movies_not_watched[x][0]) for x in top_ratings_indices\n",
    "]\n",
    "print(\"Top 10 movie recommendations\")\n",
    "print(\"----\" * 8)\n",
    "recommended_movies = movie_df[movie_df[\"movieId\"].isin(recommended_movie_ids)]\n",
    "for row in recommended_movies.itertuples():\n",
    "    print(row.title, \":\", row.genres)"
   ]
  },
  {
   "cell_type": "code",
   "execution_count": 39,
   "metadata": {},
   "outputs": [
    {
     "name": "stdout",
     "output_type": "stream",
     "text": [
      "Top 10 movie recommendations\n",
      "--------------------------------\n",
      "Fargo (1996) : Comedy|Crime|Drama|Thriller\n",
      "His Girl Friday (1940) : Comedy|Romance\n",
      "It's a Wonderful Life (1946) : Children|Drama|Fantasy|Romance\n",
      "African Queen, The (1951) : Adventure|Comedy|Romance|War\n",
      "Secrets & Lies (1996) : Drama\n",
      "Chinatown (1974) : Crime|Film-Noir|Mystery|Thriller\n",
      "Good Will Hunting (1997) : Drama|Romance\n",
      "Sweet Hereafter, The (1997) : Drama\n",
      "Big Lebowski, The (1998) : Comedy|Crime\n",
      "Doctor Zhivago (1965) : Drama|Romance|War\n"
     ]
    }
   ],
   "source": [
    "# Let us get a user and see the top recommendations.\n",
    "user_id = 7\n",
    "\n",
    "movies_watched_by_user = training_full[training_full.userId ==user_id]\n",
    "movies_not_watched = movie_df[~movie_df[\"movieId\"].isin(movies_watched_by_user.movieId.values)][\"movieId\"]\n",
    "movies_not_watched = list(\n",
    "    set(movies_not_watched).intersection(set(movie2movie_encoded.keys()))\n",
    ")\n",
    "movies_not_watched = [[movie2movie_encoded.get(x)] for x in movies_not_watched]\n",
    "user_encoder = user2user_encoded.get(user_id)\n",
    "user_movie_array = np.hstack(\n",
    "    ([[user_encoder]] * len(movies_not_watched), movies_not_watched)\n",
    ")\n",
    "ratings = model.predict(user_movie_array).flatten()\n",
    "top_ratings_indices = ratings.argsort()[-10:][::-1]\n",
    "recommended_movie_ids = [\n",
    "    movie_encoded2movie.get(movies_not_watched[x][0]) for x in top_ratings_indices\n",
    "]\n",
    "print(\"Top 10 movie recommendations\")\n",
    "print(\"----\" * 8)\n",
    "recommended_movies = movie_df[movie_df[\"movieId\"].isin(recommended_movie_ids)]\n",
    "for row in recommended_movies.itertuples():\n",
    "    print(row.title, \":\", row.genres)"
   ]
  },
  {
   "cell_type": "code",
   "execution_count": 40,
   "metadata": {},
   "outputs": [
    {
     "name": "stdout",
     "output_type": "stream",
     "text": [
      "Top 10 movie recommendations\n",
      "--------------------------------\n",
      "Star Wars: Episode IV - A New Hope (1977) : Action|Adventure|Sci-Fi\n",
      "Secrets & Lies (1996) : Drama\n",
      "Streetcar Named Desire, A (1951) : Drama\n",
      "One Flew Over the Cuckoo's Nest (1975) : Drama\n",
      "Lawrence of Arabia (1962) : Adventure|Drama|War\n",
      "Apocalypse Now (1979) : Action|Drama|War\n",
      "Goodfellas (1990) : Crime|Drama\n",
      "Godfather: Part II, The (1974) : Crime|Drama\n",
      "High Noon (1952) : Drama|Western\n",
      "This Is Spinal Tap (1984) : Comedy\n"
     ]
    }
   ],
   "source": [
    "# Let us get a user and see the top recommendations.\n",
    "user_id = 255\n",
    "\n",
    "movies_watched_by_user = training_full[training_full.userId ==user_id]\n",
    "movies_not_watched = movie_df[~movie_df[\"movieId\"].isin(movies_watched_by_user.movieId.values)][\"movieId\"]\n",
    "movies_not_watched = list(\n",
    "    set(movies_not_watched).intersection(set(movie2movie_encoded.keys()))\n",
    ")\n",
    "movies_not_watched = [[movie2movie_encoded.get(x)] for x in movies_not_watched]\n",
    "user_encoder = user2user_encoded.get(user_id)\n",
    "user_movie_array = np.hstack(\n",
    "    ([[user_encoder]] * len(movies_not_watched), movies_not_watched)\n",
    ")\n",
    "ratings = model.predict(user_movie_array).flatten()\n",
    "top_ratings_indices = ratings.argsort()[-10:][::-1]\n",
    "recommended_movie_ids = [\n",
    "    movie_encoded2movie.get(movies_not_watched[x][0]) for x in top_ratings_indices\n",
    "]\n",
    "print(\"Top 10 movie recommendations\")\n",
    "print(\"----\" * 8)\n",
    "recommended_movies = movie_df[movie_df[\"movieId\"].isin(recommended_movie_ids)]\n",
    "for row in recommended_movies.itertuples():\n",
    "    print(row.title, \":\", row.genres)"
   ]
  },
  {
   "cell_type": "code",
   "execution_count": 41,
   "metadata": {},
   "outputs": [
    {
     "name": "stdout",
     "output_type": "stream",
     "text": [
      "Top 10 movie recommendations\n",
      "--------------------------------\n",
      "Crumb (1994) : Documentary\n",
      "Hoop Dreams (1994) : Documentary\n",
      "Silence of the Lambs, The (1991) : Crime|Horror|Thriller\n",
      "Fish Called Wanda, A (1988) : Comedy|Crime\n",
      "Dial M for Murder (1954) : Crime|Mystery|Thriller\n",
      "Reservoir Dogs (1992) : Crime|Mystery|Thriller\n",
      "Lawrence of Arabia (1962) : Adventure|Drama|War\n",
      "Apocalypse Now (1979) : Action|Drama|War\n",
      "Goodfellas (1990) : Crime|Drama\n",
      "Godfather: Part II, The (1974) : Crime|Drama\n"
     ]
    }
   ],
   "source": [
    "# Let us get a user and see the top recommendations.\n",
    "user_id = 500\n",
    "\n",
    "movies_watched_by_user = training_full[training_full.userId ==user_id]\n",
    "movies_not_watched = movie_df[~movie_df[\"movieId\"].isin(movies_watched_by_user.movieId.values)][\"movieId\"]\n",
    "movies_not_watched = list(\n",
    "    set(movies_not_watched).intersection(set(movie2movie_encoded.keys()))\n",
    ")\n",
    "movies_not_watched = [[movie2movie_encoded.get(x)] for x in movies_not_watched]\n",
    "user_encoder = user2user_encoded.get(user_id)\n",
    "user_movie_array = np.hstack(\n",
    "    ([[user_encoder]] * len(movies_not_watched), movies_not_watched)\n",
    ")\n",
    "ratings = model.predict(user_movie_array).flatten()\n",
    "top_ratings_indices = ratings.argsort()[-10:][::-1]\n",
    "recommended_movie_ids = [\n",
    "    movie_encoded2movie.get(movies_not_watched[x][0]) for x in top_ratings_indices\n",
    "]\n",
    "print(\"Top 10 movie recommendations\")\n",
    "print(\"----\" * 8)\n",
    "recommended_movies = movie_df[movie_df[\"movieId\"].isin(recommended_movie_ids)]\n",
    "for row in recommended_movies.itertuples():\n",
    "    print(row.title, \":\", row.genres)"
   ]
  },
  {
   "cell_type": "code",
   "execution_count": 42,
   "metadata": {},
   "outputs": [
    {
     "name": "stdout",
     "output_type": "stream",
     "text": [
      "Top 10 movie recommendations\n",
      "--------------------------------\n",
      "Fargo (1996) : Comedy|Crime|Drama|Thriller\n",
      "His Girl Friday (1940) : Comedy|Romance\n",
      "It's a Wonderful Life (1946) : Children|Drama|Fantasy|Romance\n",
      "African Queen, The (1951) : Adventure|Comedy|Romance|War\n",
      "Secrets & Lies (1996) : Drama\n",
      "Chinatown (1974) : Crime|Film-Noir|Mystery|Thriller\n",
      "Good Will Hunting (1997) : Drama|Romance\n",
      "Sweet Hereafter, The (1997) : Drama\n",
      "Big Lebowski, The (1998) : Comedy|Crime\n",
      "Doctor Zhivago (1965) : Drama|Romance|War\n"
     ]
    }
   ],
   "source": [
    "# Let us get a user and see the top recommendations.\n",
    "user_id = 7\n",
    "\n",
    "movies_watched_by_user = training_full[training_full.userId ==user_id]\n",
    "movies_not_watched = movie_df[~movie_df[\"movieId\"].isin(movies_watched_by_user.movieId.values)][\"movieId\"]\n",
    "movies_not_watched = list(\n",
    "    set(movies_not_watched).intersection(set(movie2movie_encoded.keys()))\n",
    ")\n",
    "movies_not_watched = [[movie2movie_encoded.get(x)] for x in movies_not_watched]\n",
    "user_encoder = user2user_encoded.get(user_id)\n",
    "user_movie_array = np.hstack(\n",
    "    ([[user_encoder]] * len(movies_not_watched), movies_not_watched)\n",
    ")\n",
    "ratings = model.predict(user_movie_array).flatten()\n",
    "top_ratings_indices = ratings.argsort()[-10:][::-1]\n",
    "recommended_movie_ids = [\n",
    "    movie_encoded2movie.get(movies_not_watched[x][0]) for x in top_ratings_indices\n",
    "]\n",
    "print(\"Top 10 movie recommendations\")\n",
    "print(\"----\" * 8)\n",
    "recommended_movies = movie_df[movie_df[\"movieId\"].isin(recommended_movie_ids)]\n",
    "for row in recommended_movies.itertuples():\n",
    "    print(row.title, \":\", row.genres)"
   ]
  },
  {
   "cell_type": "code",
   "execution_count": 43,
   "metadata": {},
   "outputs": [],
   "source": [
    "# Assuming your_dataframe is your DataFrame\n",
    "import csv\n",
    "\n",
    "# Open a CSV file in write mode\n",
    "with open('output1.csv', 'w', newline='', encoding='utf-8') as csvfile:\n",
    "    # Create a CSV writer object\n",
    "    csvwriter = csv.writer(csvfile)\n",
    "\n",
    "    # Write the header to the CSV file\n",
    "    csvwriter.writerow(['title', 'genres'])\n",
    "\n",
    "    # Iterate over rows and write selected columns to the CSV file\n",
    "    for index, row in recommended_movies.iterrows():\n",
    "        csvwriter.writerow([row['title'], row['genres']])"
   ]
  },
  {
   "cell_type": "code",
   "execution_count": 44,
   "metadata": {},
   "outputs": [],
   "source": [
    "output1=pd.read_csv('output1.csv')"
   ]
  },
  {
   "cell_type": "code",
   "execution_count": 45,
   "metadata": {},
   "outputs": [
    {
     "data": {
      "text/html": [
       "<div>\n",
       "<style scoped>\n",
       "    .dataframe tbody tr th:only-of-type {\n",
       "        vertical-align: middle;\n",
       "    }\n",
       "\n",
       "    .dataframe tbody tr th {\n",
       "        vertical-align: top;\n",
       "    }\n",
       "\n",
       "    .dataframe thead th {\n",
       "        text-align: right;\n",
       "    }\n",
       "</style>\n",
       "<table border=\"1\" class=\"dataframe\">\n",
       "  <thead>\n",
       "    <tr style=\"text-align: right;\">\n",
       "      <th></th>\n",
       "      <th>title</th>\n",
       "      <th>genres</th>\n",
       "    </tr>\n",
       "  </thead>\n",
       "  <tbody>\n",
       "    <tr>\n",
       "      <th>0</th>\n",
       "      <td>Fargo (1996)</td>\n",
       "      <td>Comedy|Crime|Drama|Thriller</td>\n",
       "    </tr>\n",
       "    <tr>\n",
       "      <th>1</th>\n",
       "      <td>His Girl Friday (1940)</td>\n",
       "      <td>Comedy|Romance</td>\n",
       "    </tr>\n",
       "    <tr>\n",
       "      <th>2</th>\n",
       "      <td>It's a Wonderful Life (1946)</td>\n",
       "      <td>Children|Drama|Fantasy|Romance</td>\n",
       "    </tr>\n",
       "    <tr>\n",
       "      <th>3</th>\n",
       "      <td>African Queen, The (1951)</td>\n",
       "      <td>Adventure|Comedy|Romance|War</td>\n",
       "    </tr>\n",
       "    <tr>\n",
       "      <th>4</th>\n",
       "      <td>Secrets &amp; Lies (1996)</td>\n",
       "      <td>Drama</td>\n",
       "    </tr>\n",
       "  </tbody>\n",
       "</table>\n",
       "</div>"
      ],
      "text/plain": [
       "                          title                          genres\n",
       "0                  Fargo (1996)     Comedy|Crime|Drama|Thriller\n",
       "1        His Girl Friday (1940)                  Comedy|Romance\n",
       "2  It's a Wonderful Life (1946)  Children|Drama|Fantasy|Romance\n",
       "3     African Queen, The (1951)    Adventure|Comedy|Romance|War\n",
       "4         Secrets & Lies (1996)                           Drama"
      ]
     },
     "execution_count": 45,
     "metadata": {},
     "output_type": "execute_result"
    }
   ],
   "source": [
    "output1.head()"
   ]
  },
  {
   "cell_type": "code",
   "execution_count": 46,
   "metadata": {},
   "outputs": [],
   "source": [
    "output1 = pd.read_csv('output1.csv')"
   ]
  },
  {
   "cell_type": "code",
   "execution_count": 47,
   "metadata": {},
   "outputs": [],
   "source": [
    "output2 = pd.read_csv('output2.csv')"
   ]
  },
  {
   "cell_type": "code",
   "execution_count": 48,
   "metadata": {
    "scrolled": true
   },
   "outputs": [
    {
     "data": {
      "text/html": [
       "<div>\n",
       "<style scoped>\n",
       "    .dataframe tbody tr th:only-of-type {\n",
       "        vertical-align: middle;\n",
       "    }\n",
       "\n",
       "    .dataframe tbody tr th {\n",
       "        vertical-align: top;\n",
       "    }\n",
       "\n",
       "    .dataframe thead th {\n",
       "        text-align: right;\n",
       "    }\n",
       "</style>\n",
       "<table border=\"1\" class=\"dataframe\">\n",
       "  <thead>\n",
       "    <tr style=\"text-align: right;\">\n",
       "      <th></th>\n",
       "      <th>title</th>\n",
       "      <th>genres</th>\n",
       "    </tr>\n",
       "  </thead>\n",
       "  <tbody>\n",
       "    <tr>\n",
       "      <th>0</th>\n",
       "      <td>Fargo (1996)</td>\n",
       "      <td>Comedy|Crime|Drama|Thriller</td>\n",
       "    </tr>\n",
       "    <tr>\n",
       "      <th>1</th>\n",
       "      <td>His Girl Friday (1940)</td>\n",
       "      <td>Comedy|Romance</td>\n",
       "    </tr>\n",
       "    <tr>\n",
       "      <th>2</th>\n",
       "      <td>It's a Wonderful Life (1946)</td>\n",
       "      <td>Children|Drama|Fantasy|Romance</td>\n",
       "    </tr>\n",
       "    <tr>\n",
       "      <th>3</th>\n",
       "      <td>African Queen, The (1951)</td>\n",
       "      <td>Adventure|Comedy|Romance|War</td>\n",
       "    </tr>\n",
       "    <tr>\n",
       "      <th>4</th>\n",
       "      <td>Secrets &amp; Lies (1996)</td>\n",
       "      <td>Drama</td>\n",
       "    </tr>\n",
       "  </tbody>\n",
       "</table>\n",
       "</div>"
      ],
      "text/plain": [
       "                          title                          genres\n",
       "0                  Fargo (1996)     Comedy|Crime|Drama|Thriller\n",
       "1        His Girl Friday (1940)                  Comedy|Romance\n",
       "2  It's a Wonderful Life (1946)  Children|Drama|Fantasy|Romance\n",
       "3     African Queen, The (1951)    Adventure|Comedy|Romance|War\n",
       "4         Secrets & Lies (1996)                           Drama"
      ]
     },
     "execution_count": 48,
     "metadata": {},
     "output_type": "execute_result"
    }
   ],
   "source": [
    "output1.head()"
   ]
  },
  {
   "cell_type": "code",
   "execution_count": 49,
   "metadata": {},
   "outputs": [
    {
     "data": {
      "text/plain": [
       "'Title,Genre\\r\\nFargo (1996),Comedy|Crime|Drama|Thriller\\r\\nHis Girl Friday (1940),Comedy|Romance\\r\\nIt\\'s a Wonderful Life (1946),Children|Drama|Fantasy|Romance\\r\\n\"African Queen, The (1951)\",Adventure|Comedy|Romance|War\\r\\nSecrets & Lies (1996),Drama\\r\\nChinatown (1974),Crime|Film-Noir|Mystery|Thriller\\r\\nGood Will Hunting (1997),Drama|Romance\\r\\n\"Sweet Hereafter, The (1997)\",Drama\\r\\n\"Big Lebowski, The (1998)\",Comedy|Crime\\r\\nDoctor Zhivago (1965),Drama|Romance|War\\r\\n'"
      ]
     },
     "execution_count": 49,
     "metadata": {},
     "output_type": "execute_result"
    }
   ],
   "source": [
    "# Load the CSV file into a pandas DataFra\n",
    "df= pd.read_csv('output1.csv')\n",
    "\n",
    "# Rename columns as needed\n",
    "df.rename(columns={'title': 'Title'}, inplace=True)\n",
    "df.rename(columns={'genres': 'Genre'}, inplace=True)\n",
    "\n",
    "# Save the modified DataFrame back to the CSV file\n",
    "df.to_csv(index=False)"
   ]
  },
  {
   "cell_type": "code",
   "execution_count": 50,
   "metadata": {},
   "outputs": [
    {
     "data": {
      "text/html": [
       "<div>\n",
       "<style scoped>\n",
       "    .dataframe tbody tr th:only-of-type {\n",
       "        vertical-align: middle;\n",
       "    }\n",
       "\n",
       "    .dataframe tbody tr th {\n",
       "        vertical-align: top;\n",
       "    }\n",
       "\n",
       "    .dataframe thead th {\n",
       "        text-align: right;\n",
       "    }\n",
       "</style>\n",
       "<table border=\"1\" class=\"dataframe\">\n",
       "  <thead>\n",
       "    <tr style=\"text-align: right;\">\n",
       "      <th></th>\n",
       "      <th>Title</th>\n",
       "      <th>Genre</th>\n",
       "    </tr>\n",
       "  </thead>\n",
       "  <tbody>\n",
       "    <tr>\n",
       "      <th>0</th>\n",
       "      <td>Fargo (1996)</td>\n",
       "      <td>Comedy|Crime|Drama|Thriller</td>\n",
       "    </tr>\n",
       "    <tr>\n",
       "      <th>1</th>\n",
       "      <td>His Girl Friday (1940)</td>\n",
       "      <td>Comedy|Romance</td>\n",
       "    </tr>\n",
       "    <tr>\n",
       "      <th>2</th>\n",
       "      <td>It's a Wonderful Life (1946)</td>\n",
       "      <td>Children|Drama|Fantasy|Romance</td>\n",
       "    </tr>\n",
       "    <tr>\n",
       "      <th>3</th>\n",
       "      <td>African Queen, The (1951)</td>\n",
       "      <td>Adventure|Comedy|Romance|War</td>\n",
       "    </tr>\n",
       "    <tr>\n",
       "      <th>4</th>\n",
       "      <td>Secrets &amp; Lies (1996)</td>\n",
       "      <td>Drama</td>\n",
       "    </tr>\n",
       "  </tbody>\n",
       "</table>\n",
       "</div>"
      ],
      "text/plain": [
       "                          Title                           Genre\n",
       "0                  Fargo (1996)     Comedy|Crime|Drama|Thriller\n",
       "1        His Girl Friday (1940)                  Comedy|Romance\n",
       "2  It's a Wonderful Life (1946)  Children|Drama|Fantasy|Romance\n",
       "3     African Queen, The (1951)    Adventure|Comedy|Romance|War\n",
       "4         Secrets & Lies (1996)                           Drama"
      ]
     },
     "execution_count": 50,
     "metadata": {},
     "output_type": "execute_result"
    }
   ],
   "source": [
    "df.head()"
   ]
  },
  {
   "cell_type": "code",
   "execution_count": 51,
   "metadata": {},
   "outputs": [],
   "source": [
    "# Load the CSV file into a pandas DataFrame\n",
    "df1 = pd.read_csv('output2.csv')\n",
    "\n",
    "# Rename columns as needed\n",
    "df1.rename(columns={'title': 'Title', 'genres': 'enres'}, inplace=True)\n",
    "\n",
    "# Save the modified DataFrame back to a CSV file\n",
    "df1.to_csv('modified_output2.csv', index=False)"
   ]
  },
  {
   "cell_type": "code",
   "execution_count": 52,
   "metadata": {},
   "outputs": [
    {
     "data": {
      "text/html": [
       "<div>\n",
       "<style scoped>\n",
       "    .dataframe tbody tr th:only-of-type {\n",
       "        vertical-align: middle;\n",
       "    }\n",
       "\n",
       "    .dataframe tbody tr th {\n",
       "        vertical-align: top;\n",
       "    }\n",
       "\n",
       "    .dataframe thead th {\n",
       "        text-align: right;\n",
       "    }\n",
       "</style>\n",
       "<table border=\"1\" class=\"dataframe\">\n",
       "  <thead>\n",
       "    <tr style=\"text-align: right;\">\n",
       "      <th></th>\n",
       "      <th>MovieId</th>\n",
       "      <th>Title</th>\n",
       "      <th>Genre</th>\n",
       "    </tr>\n",
       "  </thead>\n",
       "  <tbody>\n",
       "    <tr>\n",
       "      <th>0</th>\n",
       "      <td>42015</td>\n",
       "      <td>Casanova (2005)</td>\n",
       "      <td>Action|Adventure|Comedy|Drama|Romance</td>\n",
       "    </tr>\n",
       "    <tr>\n",
       "      <th>1</th>\n",
       "      <td>4956</td>\n",
       "      <td>Stunt Man, The (1980)</td>\n",
       "      <td>Action|Adventure|Comedy|Drama|Romance|Thriller</td>\n",
       "    </tr>\n",
       "    <tr>\n",
       "      <th>2</th>\n",
       "      <td>55116</td>\n",
       "      <td>Hunting Party, The (2007)</td>\n",
       "      <td>Action|Adventure|Comedy|Drama|Thriller</td>\n",
       "    </tr>\n",
       "    <tr>\n",
       "      <th>3</th>\n",
       "      <td>117646</td>\n",
       "      <td>Dragonheart 2: A New Beginning (2000)</td>\n",
       "      <td>Action|Adventure|Comedy|Drama|Fantasy|Thriller</td>\n",
       "    </tr>\n",
       "    <tr>\n",
       "      <th>4</th>\n",
       "      <td>5657</td>\n",
       "      <td>Flashback (1990)</td>\n",
       "      <td>Action|Adventure|Comedy|Crime|Drama</td>\n",
       "    </tr>\n",
       "  </tbody>\n",
       "</table>\n",
       "</div>"
      ],
      "text/plain": [
       "   MovieId                                  Title  \\\n",
       "0    42015                        Casanova (2005)   \n",
       "1     4956                  Stunt Man, The (1980)   \n",
       "2    55116              Hunting Party, The (2007)   \n",
       "3   117646  Dragonheart 2: A New Beginning (2000)   \n",
       "4     5657                       Flashback (1990)   \n",
       "\n",
       "                                            Genre  \n",
       "0           Action|Adventure|Comedy|Drama|Romance  \n",
       "1  Action|Adventure|Comedy|Drama|Romance|Thriller  \n",
       "2          Action|Adventure|Comedy|Drama|Thriller  \n",
       "3  Action|Adventure|Comedy|Drama|Fantasy|Thriller  \n",
       "4             Action|Adventure|Comedy|Crime|Drama  "
      ]
     },
     "execution_count": 52,
     "metadata": {},
     "output_type": "execute_result"
    }
   ],
   "source": [
    "df1.head()"
   ]
  },
  {
   "cell_type": "code",
   "execution_count": 53,
   "metadata": {},
   "outputs": [],
   "source": [
    "import pandas as pd\n",
    "\n",
    "# Load the two CSV files into DataFrames\n",
    "output1 = df\n",
    "output2 = df1\n",
    "\n",
    "# Concatenate the DataFrames vertically, ignoring the 'movie id' column from output2\n",
    "aligned_df = pd.concat([output1, output2[['Title', 'Genre']]], ignore_index=True)\n",
    "\n"
   ]
  },
  {
   "cell_type": "code",
   "execution_count": 54,
   "metadata": {},
   "outputs": [],
   "source": [
    "aligned_df = pd.concat([output1, output2[['Title', 'Genre']]], ignore_index=True)"
   ]
  },
  {
   "cell_type": "code",
   "execution_count": 55,
   "metadata": {},
   "outputs": [
    {
     "name": "stdout",
     "output_type": "stream",
     "text": [
      "[['Fargo (1996)', 'Comedy|Crime|Drama|Thriller'], ['His Girl Friday (1940)', 'Comedy|Romance'], [\"It's a Wonderful Life (1946)\", 'Children|Drama|Fantasy|Romance'], ['African Queen, The (1951)', 'Adventure|Comedy|Romance|War'], ['Secrets & Lies (1996)', 'Drama'], ['Chinatown (1974)', 'Crime|Film-Noir|Mystery|Thriller'], ['Good Will Hunting (1997)', 'Drama|Romance'], ['Sweet Hereafter, The (1997)', 'Drama'], ['Big Lebowski, The (1998)', 'Comedy|Crime'], ['Doctor Zhivago (1965)', 'Drama|Romance|War'], ['Casanova (2005)', 'Action|Adventure|Comedy|Drama|Romance'], ['Stunt Man, The (1980)', 'Action|Adventure|Comedy|Drama|Romance|Thriller'], ['Hunting Party, The (2007)', 'Action|Adventure|Comedy|Drama|Thriller'], ['Dragonheart 2: A New Beginning (2000)', 'Action|Adventure|Comedy|Drama|Fantasy|Thriller'], ['Flashback (1990)', 'Action|Adventure|Comedy|Crime|Drama'], ['Extreme Days (2001)', 'Action|Adventure|Comedy|Drama'], [\"Pusher III: I'm the Angel of Death (2005)\", 'Action|Comedy|Drama|Horror|Thriller'], ['Protector, The (1985)', 'Action|Comedy|Drama|Thriller'], ['Getaway, The (1994)', 'Action|Adventure|Crime|Drama|Romance|Thriller'], ['Confessions of a Dangerous Mind (2002)', 'Comedy|Crime|Drama|Romance|Thriller']]\n"
     ]
    }
   ],
   "source": [
    "aligned_list = aligned_df.values.tolist()\n",
    "\n",
    "# Print the list\n",
    "print(aligned_list)"
   ]
  },
  {
   "cell_type": "code",
   "execution_count": 56,
   "metadata": {},
   "outputs": [
    {
     "name": "stdout",
     "output_type": "stream",
     "text": [
      "Title: Fargo (1996), Genre: Comedy|Crime|Drama|Thriller\n",
      "Title: His Girl Friday (1940), Genre: Comedy|Romance\n",
      "Title: It's a Wonderful Life (1946), Genre: Children|Drama|Fantasy|Romance\n",
      "Title: African Queen, The (1951), Genre: Adventure|Comedy|Romance|War\n",
      "Title: Secrets & Lies (1996), Genre: Drama\n",
      "Title: Chinatown (1974), Genre: Crime|Film-Noir|Mystery|Thriller\n",
      "Title: Good Will Hunting (1997), Genre: Drama|Romance\n",
      "Title: Sweet Hereafter, The (1997), Genre: Drama\n",
      "Title: Big Lebowski, The (1998), Genre: Comedy|Crime\n",
      "Title: Doctor Zhivago (1965), Genre: Drama|Romance|War\n",
      "Title: Casanova (2005), Genre: Action|Adventure|Comedy|Drama|Romance\n",
      "Title: Stunt Man, The (1980), Genre: Action|Adventure|Comedy|Drama|Romance|Thriller\n",
      "Title: Hunting Party, The (2007), Genre: Action|Adventure|Comedy|Drama|Thriller\n",
      "Title: Dragonheart 2: A New Beginning (2000), Genre: Action|Adventure|Comedy|Drama|Fantasy|Thriller\n",
      "Title: Flashback (1990), Genre: Action|Adventure|Comedy|Crime|Drama\n",
      "Title: Extreme Days (2001), Genre: Action|Adventure|Comedy|Drama\n",
      "Title: Pusher III: I'm the Angel of Death (2005), Genre: Action|Comedy|Drama|Horror|Thriller\n",
      "Title: Protector, The (1985), Genre: Action|Comedy|Drama|Thriller\n",
      "Title: Getaway, The (1994), Genre: Action|Adventure|Crime|Drama|Romance|Thriller\n",
      "Title: Confessions of a Dangerous Mind (2002), Genre: Comedy|Crime|Drama|Romance|Thriller\n"
     ]
    }
   ],
   "source": [
    "import pandas as pd\n",
    "\n",
    "# Assuming aligned_df is your DataFrame\n",
    "# Remove duplicates from aligned_df\n",
    "unique_df = aligned_df.drop_duplicates()\n",
    "\n",
    "# Iterate over rows and print each row on a single line\n",
    "for index, row in unique_df.iterrows():\n",
    "    row_str = ', '.join([f\"{col}: {value}\" for col, value in row.items()])\n",
    "    print(row_str)"
   ]
  },
  {
   "cell_type": "code",
   "execution_count": 31,
   "metadata": {},
   "outputs": [
    {
     "name": "stdout",
     "output_type": "stream",
     "text": [
      "RMSE on the validation set: 0.9535050929909736\n"
     ]
    }
   ],
   "source": [
    "from sklearn.metrics import mean_squared_error\n",
    "from math import sqrt\n",
    "\n",
    "\n",
    "y_pred = model.predict(x_val)\n",
    "\n",
    "\n",
    "y_pred = y_pred.flatten() * (max_rating - min_rating) + min_rating\n",
    "\n",
    "\n",
    "mse = mean_squared_error(y_val * (max_rating - min_rating) + min_rating, y_pred)\n",
    "\n",
    "\n",
    "rmse = sqrt(mse)\n",
    "\n",
    "print(\"RMSE on the validation set: {}\".format(rmse))\n"
   ]
  },
  {
   "cell_type": "code",
   "execution_count": 32,
   "metadata": {},
   "outputs": [
    {
     "name": "stdout",
     "output_type": "stream",
     "text": [
      "Classification Report:\n",
      "               precision    recall  f1-score   support\n",
      "\n",
      "           0       0.44      0.57      0.50      3876\n",
      "           1       0.89      0.83      0.86     16292\n",
      "\n",
      "    accuracy                           0.78     20168\n",
      "   macro avg       0.66      0.70      0.68     20168\n",
      "weighted avg       0.80      0.78      0.79     20168\n",
      "\n"
     ]
    }
   ],
   "source": [
    "from sklearn.metrics import classification_report\n",
    "\n",
    "threshold = 0.5\n",
    "\n",
    "y_pred = (model.predict(x_val).flatten() >= threshold).astype(int)\n",
    "y_true = (y_val >= threshold).astype(int)\n",
    "\n",
    "classification_rep = classification_report(y_true, y_pred)\n",
    "print(\"Classification Report:\\n\", classification_rep)\n"
   ]
  },
  {
   "cell_type": "code",
   "execution_count": 33,
   "metadata": {},
   "outputs": [
    {
     "name": "stdout",
     "output_type": "stream",
     "text": [
      "F1 Score: 85.74%\n"
     ]
    }
   ],
   "source": [
    "from sklearn.metrics import f1_score\n",
    "f1 = f1_score(y_true, y_pred)\n",
    "print(f\"F1 Score: {f1 * 100:.2f}%\")"
   ]
  },
  {
   "cell_type": "code",
   "execution_count": 34,
   "metadata": {},
   "outputs": [
    {
     "name": "stdout",
     "output_type": "stream",
     "text": [
      "Precision: 88.96%\n"
     ]
    }
   ],
   "source": [
    "from sklearn.metrics import precision_score\n",
    "precision_score = precision_score(y_true, y_pred)\n",
    "print(f\"Precision: {precision_score * 100:.2f}%\")"
   ]
  },
  {
   "cell_type": "code",
   "execution_count": 35,
   "metadata": {},
   "outputs": [
    {
     "name": "stdout",
     "output_type": "stream",
     "text": [
      "Recall: 82.74%\n"
     ]
    }
   ],
   "source": [
    "from sklearn.metrics import recall_score\n",
    "recall = recall_score(y_true, y_pred)\n",
    "print(f\"Recall: {recall * 100:.2f}%\")"
   ]
  },
  {
   "cell_type": "code",
   "execution_count": 36,
   "metadata": {},
   "outputs": [
    {
     "name": "stdout",
     "output_type": "stream",
     "text": [
      "Accuracy: 77.76%\n"
     ]
    }
   ],
   "source": [
    "from sklearn.metrics import accuracy_score\n",
    "accuracy = accuracy_score(y_true, y_pred)\n",
    "print(f\"Accuracy: {accuracy * 100:.2f}%\")"
   ]
  },
  {
   "cell_type": "code",
   "execution_count": 37,
   "metadata": {},
   "outputs": [
    {
     "name": "stdout",
     "output_type": "stream",
     "text": [
      "2521/2521 [==============================] - 40s 16ms/step - loss: 0.6025\n",
      "Accuracy 0.7776180087266957\n",
      "Recall <function recall_score at 0x0000023CF70B7A60>\n",
      "f1 score <function f1_score at 0x0000023CF70B7430>\n",
      "f1 score <function precision_score at 0x0000023CF70B7940>\n"
     ]
    }
   ],
   "source": [
    "from sklearn.metrics import accuracy_score\n",
    "from sklearn.metrics import recall_score\n",
    "from sklearn.metrics import f1_score\n",
    "from sklearn.metrics import precision_score\n",
    "model.fit(x_train, y_train)\n",
    "model_predictions=model.predict(x_val)\n",
    "\n",
    "model_recall_score=recall_score(y_true, y_pred)\n",
    "model_f1_score=f1_score(y_true, y_pred)\n",
    "model_accuracy=accuracy_score(y_true, y_pred)\n",
    "model_precision_score=precision_score(y_true, y_pred)\n",
    "\n",
    "\n",
    "print(\"Accuracy\",model_accuracy)\n",
    "print(\"Recall\",recall_score)\n",
    "print(\"f1 score\",f1_score)\n",
    "print(\"f1 score\",precision_score)"
   ]
  },
  {
   "cell_type": "code",
   "execution_count": null,
   "metadata": {},
   "outputs": [],
   "source": [
    "from sklearn.metrics import precision_score\n",
    "model_precision_score=precision_score(y_true, y_pred)\n",
    "print(f\"Precision: {model_precision_score * 100:.2f}%\")"
   ]
  },
  {
   "cell_type": "code",
   "execution_count": null,
   "metadata": {},
   "outputs": [],
   "source": [
    "from sklearn.metrics import f1_score\n",
    "model_f1_score=f1_score(y_true, y_pred)\n",
    "print(f\"f1 score: {model_f1_score * 100:.2f}%\")"
   ]
  },
  {
   "cell_type": "code",
   "execution_count": null,
   "metadata": {},
   "outputs": [],
   "source": [
    "from sklearn.metrics import recall_score\n",
    "model_recall_score=recall_score(y_true, y_pred)\n",
    "print(f\"Recall: {model_recall_score * 100:.2f}%\")\n"
   ]
  }
 ],
 "metadata": {
  "colab": {
   "provenance": []
  },
  "kernelspec": {
   "display_name": "Python 3 (ipykernel)",
   "language": "python",
   "name": "python3"
  },
  "language_info": {
   "codemirror_mode": {
    "name": "ipython",
    "version": 3
   },
   "file_extension": ".py",
   "mimetype": "text/x-python",
   "name": "python",
   "nbconvert_exporter": "python",
   "pygments_lexer": "ipython3",
   "version": "3.9.7"
  }
 },
 "nbformat": 4,
 "nbformat_minor": 1
}
